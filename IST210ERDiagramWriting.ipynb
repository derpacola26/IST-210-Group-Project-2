{
  "nbformat": 4,
  "nbformat_minor": 0,
  "metadata": {
    "colab": {
      "name": "IST210ERDiagramWriting.ipynb",
      "provenance": []
    },
    "kernelspec": {
      "name": "python3",
      "display_name": "Python 3"
    }
  },
  "cells": [
    {
      "cell_type": "code",
      "metadata": {
        "id": "BKYfS0RfaGly",
        "colab_type": "code",
        "colab": {}
      },
      "source": [
        ""
      ],
      "execution_count": 0,
      "outputs": []
    },
    {
      "cell_type": "markdown",
      "metadata": {
        "id": "gFjhd3hgiIWV",
        "colab_type": "text"
      },
      "source": [
        "For the local pet shop, we made ten tables. We have the FishID, FoodID, PetsID, AquariumID, FoodExpenseReportID, EnclosureID, PurchasesOfFishID, FoodPurchasedByCustomersID, PurchasesOfPetsID, and LoyaltyProgramID. These keep track of each fish and pet, where the fish and pet are held, what food they eat and how much it costs, each customer, their stance in the loyalty program, and what pets and fish they’ve purchased. The only thing the FoodExpenseReportID is connected to is the FoodID. The FoodID is included in the FoodExpenseReportID. The FoodID connects to FishID and PetsID in a must have to must have to booth. TheFoodID is included in the FoodExpenseReportID. It also may be in the FoodPurchasedByCustomersID. This keeps track of what food was bought, how much, and how much it cost. The FoodID is important so we know what pets and fish each food. The PetsID are the specific pets, and the EnclosureID is where those animals are kept. Both PetsID and EnclosureID may be included in the PurchasesOfPetsID, which keeps track of which pets are adopted/bought. Since the FoodID is also connected to the FishID, it is basically an identical relationship. The FishID is housed in the AquariumID. Like the PetsID, both the FishID and AquariumID may be contained in the PurchasesOfFishID. This keeps track of each fish purchased, where they were held, when they were purchased, and what food they eat. The other part of this whole ER Diagram is the customer’s profile and reward program. The FoodID may be contained in the FoodPurchasedByCustomersID, which is included in the LoyaltyProgramID. The FoodPurchasedByCustomersID keeps track of how much pet and fish food is sold to customers so it can be compared to the total amount of food bought. The LoyaltyProgramID tells what customer is part of the loyalty program, which keeps track of who the customer is, what they’ve purchases, and what discounts are available. The PurchasesOfPetsID and the PurchasesOfFishID are included in the LoyaltyProgramID."
      ]
    }
  ]
}